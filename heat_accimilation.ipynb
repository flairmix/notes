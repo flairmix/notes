{
 "cells": [
  {
   "cell_type": "markdown",
   "metadata": {},
   "source": [
    "1 Расчет расхода тепла калорифером или его мощность в кВт формуле:\\\n",
    "``` \n",
    "Q = L ∙ ρ ∙ c ∙ (tн – tп)\n",
    "```\n",
    "\n",
    "м3/ч * кг/м3 * кДж/(кг∙K) * (K - K) \\\n",
    "~~м3~~/ч * ~~кг/м3~~ * кДж/(~~кг~~∙K) * (K - K) \\\n",
    "1/ч *  * кДж/(~~K~~) * ~~(K - K)~~ \\\n",
    "кДж/3600*ч = кВТ \n",
    "\n",
    "где:\n",
    "- L - расход воздуха - производительность приточной, либо приточно-вытяжной вентиляционной установки, м3/ч \\\n",
    "- ρ - плотность воздуха = 1,23 кг/м3\\\n",
    "- c - удельная теплоемкость воздуха = 1 кДж/(кг∙K)\\\n",
    "- tн - температура наружного воздуха - температура наиболее холодной пятидневки обеспеченностью 0.92\\\n",
    "- tп - температура приточного воздуха после нагревателя системы вентиляции."
   ]
  },
  {
   "cell_type": "markdown",
   "metadata": {},
   "source": [
    "2 Расчет расхода воздуха для ассимиляции теплоты:\n",
    "``` \n",
    "L = 3600 ∙ Q / (ρ ∙ c ∙ (tн – tп))\n",
    "```\n",
    "3600 * ~~КДж~~/с (кг/м3 * ~~кДж~~/(кг∙K) * (K - K))\\\n",
    "3600 * 1/с (~~кг~~/м3 * 1/(~~кг~~∙K) * (K - K))\\\n",
    "3600 * 1/с (1/м3 * ~~1/(K) * (K - K)~~)\\\n",
    "3600 * м3/с = м3/ч"
   ]
  },
  {
   "cell_type": "code",
   "execution_count": 9,
   "metadata": {},
   "outputs": [],
   "source": [
    "class accimilationCalc():\n",
    "    def __init__(self, \n",
    "                power_kW: float|None = None,\n",
    "                flow_m3_h: float|None = None,\n",
    "                t_in: int = 40,\n",
    "                t_out: int = 30,\n",
    "                ):\n",
    "        self.power_kW = power_kW \n",
    "        self.flow_m3_h = flow_m3_h \n",
    "        self.c = 1.005\n",
    "        self.t_in = t_in\n",
    "        self.t_out = t_out\n",
    "        self.density = (353/(273+t_out))\n",
    "\n",
    "    def calculate_flow_m3_h(self):\n",
    "        if self.power_kW is not None:\n",
    "            self.flow_m3_h = round((3600 * self.power_kW) / (self.density * self.c * (self.t_in - self.t_out)), 0)\n",
    "            print(f\"power_kW = {self.power_kW} кВт\\n\" + \n",
    "                  f\"flow_m3_h = {self.flow_m3_h} м3/ч\\n\" +\n",
    "                  f\"t_in = {self.t_in} °C\\n\" +\n",
    "                  f\"t_out = {self.t_out} °C\" \n",
    "                  )\n",
    "\n",
    "        else:\n",
    "            print(f\"Error with initial data\")\n",
    "\n",
    "\n"
   ]
  },
  {
   "cell_type": "code",
   "execution_count": 11,
   "metadata": {},
   "outputs": [
    {
     "name": "stdout",
     "output_type": "stream",
     "text": [
      "power_kW = 600 кВт\n",
      "flow_m3_h = 227559.0 м3/ч\n",
      "t_in = 34 °C\n",
      "t_out = 26 °C\n"
     ]
    }
   ],
   "source": [
    "calc1 = accimilationCalc(power_kW = 50*12, t_in = 34, t_out=26)\n",
    "calc1.calculate_flow_m3_h()"
   ]
  }
 ],
 "metadata": {
  "kernelspec": {
   "display_name": "Python 3",
   "language": "python",
   "name": "python3"
  },
  "language_info": {
   "codemirror_mode": {
    "name": "ipython",
    "version": 3
   },
   "file_extension": ".py",
   "mimetype": "text/x-python",
   "name": "python",
   "nbconvert_exporter": "python",
   "pygments_lexer": "ipython3",
   "version": "3.12.8"
  }
 },
 "nbformat": 4,
 "nbformat_minor": 2
}
